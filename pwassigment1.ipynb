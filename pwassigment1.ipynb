{
  "cells": [
    {
      "cell_type": "markdown",
      "metadata": {
        "id": "DOz4drejhHKw"
      },
      "source": [
        "# **Python Basic Questions**"
      ]
    },
    {
      "cell_type": "markdown",
      "metadata": {
        "id": "D6htf0ndc4MJ"
      },
      "source": [
        "1. What is Python, and why is it popular?\n",
        "\n",
        "\n",
        "  -Python is a high-level, easy-to-learn programming language known for its simple syntax and versatility.\n",
        "\n",
        "It’s popular because:\n",
        "\n",
        "* It’s beginner-friendly\n",
        "* Used in web development, data science, AI, automation, etc.\n",
        "* Has a large community and many libraries\n",
        "2. What is an interpreter in Python?\n",
        " -Here are the answers in about **40 words each**:\n",
        "\n",
        "---\n",
        "\n",
        "2.What is an interpreter in Python?\n",
        "\n",
        "\n",
        "-An interpreter executes code line by line, translating it into machine language. It helps in debugging and makes Python suitable for beginners by allowing interactive programming and immediate feedback during development.\n",
        "\n",
        "---\n",
        "\n",
        "3. What are Pre-defined Keywords in Python?\n",
        "\n",
        "\n",
        "-Pre-defined keywords are reserved words that Python uses for its syntax, like 'if', 'else', 'for', 'while'. These words have special meaning and are part of the language’s structure, so they cannot be used as variable names.\n",
        "\n",
        "---\n",
        "\n",
        "4. Can Keywords can  Be used as Variable Names?\n",
        "\n",
        "\n",
        "-No, Python keywords like 'if', 'while', 'class', etc., cannot be used as variable names. Doing so will result in a syntax error because these words have predefined purposes in controlling the flow and structure of Python code.\n",
        "\n",
        "---\n",
        "\n",
        "5.Whar is Mutability in Python?\n",
        "\n",
        "\n",
        "-Mutability means whether a data type can be changed after creation. Mutable types like lists can be modified, while immutable types like strings and tuples cannot. Understanding mutability is important for managing memory and preventing unexpected behavior in programs.\n",
        "\n",
        "---\n",
        "\n",
        "6. Why are  Lists Are Mutable but Tuples Aren’t?\n",
        "\n",
        "\n",
        "-Lists are mutable to allow flexibility in updating, appending, or removing elements. Tuples are immutable to ensure data integrity, improve performance, and enable use as dictionary keys. Each serves different purposes based on data handling needs.\n",
        "\n",
        "---\n",
        "\n",
        "7. What is difference between \"==\" vs \"is\" Operators?\n",
        "\n",
        "\n",
        "-'==' checks if values are equal, while 'is' checks if two variables refer to the same object in memory. They may return different results depending on the data type and whether the objects share the same memory address.\n",
        "\n",
        "---\n",
        "\n",
        "8. What are Logical Operators in Python?\n",
        "\n",
        "-Python has three logical operators: 'and' (both conditions true), 'or' (at least one condition true), and 'not' (inverts the result). These operators are used to form complex conditional expressions and control program decisions.\n",
        "\n",
        "---\n",
        "\n",
        "9.  What is Type Casting in Python?\n",
        "\n",
        "-Type casting converts one data type to another. It helps in operations involving different types, like converting strings to integers. Python supports both automatic (implicit) and manual (explicit) type casting using built-in functions like 'int()', 'float()'.\n",
        "\n",
        "---\n",
        "\n",
        "10. What is the difference between Implicit vs Explicit Type Casting?\n",
        "\n",
        "\n",
        "-Implicit type casting is done automatically by Python when needed, without loss of data. Explicit casting is manually done by the programmer using functions like 'int()', 'str()', or 'float()' to convert between data types intentionally.\n",
        "\n",
        "---\n",
        "\n",
        "11. What is Purpose of Conditional Statements in python?\n",
        "\n",
        "\n",
        "-Conditional statements ('if', 'elif', 'else') let a program make decisions by running code only when certain conditions are met. They control the program’s flow based on input, logic, or variables, making the program responsive and dynamic.\n",
        "\n",
        "---\n",
        "\n",
        "12. How does elif Statement Works?\n",
        "\n",
        "\n",
        "-The 'elif' (else if) statement allows checking multiple conditions after an 'if'. When the 'if' condition is false, Python checks 'elif'. If true, its block runs. If none are true, 'else' (if present) executes.\n",
        "\n",
        "---\n",
        "\n",
        "13. What is Difference Between for and while Loops?\n",
        "\n",
        "-'for' loops run a block of code a specific number of times, typically over a sequence. 'while' loops run based on a condition and may execute indefinitely until the condition becomes false. Choice depends on the task.\n",
        "\n",
        "---\n",
        "\n",
        "14. Describe a Scenario Where while Loop is Better.\n",
        "\n",
        "\n",
        "-A 'while' loop is ideal when the number of iterations is unknown, like repeatedly asking a user to enter a valid password until correct. It runs as long as the condition remains true, offering flexibility.\n",
        "\n",
        "---\n",
        "\n",
        "\n",
        "\n",
        "\n"
      ]
    },
    {
      "cell_type": "markdown",
      "metadata": {
        "id": "PwrRtHQZhccp"
      },
      "source": [
        "# **Practical Questions**#"
      ]
    },
    {
      "cell_type": "markdown",
      "metadata": {
        "id": "ZhN-WN0-myuc"
      },
      "source": [
        "1. Write a Python program to print \"Hello, World!\""
      ]
    },
    {
      "cell_type": "code",
      "execution_count": null,
      "metadata": {
        "colab": {
          "base_uri": "https://localhost:8080/"
        },
        "id": "LvOtfHFXnCeE",
        "outputId": "46683fa9-ec1a-4844-a6c7-d003c0248508"
      },
      "outputs": [
        {
          "name": "stdout",
          "output_type": "stream",
          "text": [
            "Hello, World!\n"
          ]
        }
      ],
      "source": [
        "print(\"Hello, World!\")"
      ]
    },
    {
      "cell_type": "markdown",
      "metadata": {
        "id": "mPtwIdscnPA7"
      },
      "source": [
        "2. Write a Python program that displays your name and age."
      ]
    },
    {
      "cell_type": "code",
      "execution_count": null,
      "metadata": {
        "colab": {
          "base_uri": "https://localhost:8080/"
        },
        "id": "uHC5MR2Tnaom",
        "outputId": "82c1c9b0-b6e3-40aa-a5cc-17cf3186f0b5"
      },
      "outputs": [
        {
          "name": "stdout",
          "output_type": "stream",
          "text": [
            "enter name Surbhi\n",
            "enter age 23\n",
            " Surbhi 23\n"
          ]
        }
      ],
      "source": [
        "Name = input(\"enter name\")\n",
        "age= int(input(\"enter age\"))\n",
        "print(Name, age)"
      ]
    },
    {
      "cell_type": "markdown",
      "metadata": {
        "id": "1A3bKVJWn8FZ"
      },
      "source": [
        "3. Write code to print all the pre-defined keywords in Python using the keyword library."
      ]
    },
    {
      "cell_type": "code",
      "execution_count": null,
      "metadata": {
        "colab": {
          "base_uri": "https://localhost:8080/"
        },
        "id": "WvcaqFF2oEO_",
        "outputId": "35c92ca5-3169-4336-ff50-32011e4ee348"
      },
      "outputs": [
        {
          "name": "stdout",
          "output_type": "stream",
          "text": [
            "['False', 'None', 'True', 'and', 'as', 'assert', 'async', 'await', 'break', 'class', 'continue', 'def', 'del', 'elif', 'else', 'except', 'finally', 'for', 'from', 'global', 'if', 'import', 'in', 'is', 'lambda', 'nonlocal', 'not', 'or', 'pass', 'raise', 'return', 'try', 'while', 'with', 'yield']\n"
          ]
        }
      ],
      "source": [
        "import keyword\n",
        "print(keyword.kwlist)"
      ]
    },
    {
      "cell_type": "markdown",
      "metadata": {
        "id": "XAKudxrsojgr"
      },
      "source": [
        "4. Write a program that checks if a given word is a Python keyword."
      ]
    },
    {
      "cell_type": "code",
      "execution_count": null,
      "metadata": {
        "colab": {
          "base_uri": "https://localhost:8080/"
        },
        "id": "X4DWp86LpLuR",
        "outputId": "07b62bf9-0199-49fe-e6e8-1ab4539c98e0"
      },
      "outputs": [
        {
          "name": "stdout",
          "output_type": "stream",
          "text": [
            "Enter a word: is\n",
            "'is' is a Python keyword.\n"
          ]
        }
      ],
      "source": [
        "import keyword\n",
        "\n",
        "word = input(\"Enter a word: \")\n",
        "\n",
        "if keyword.iskeyword(word):\n",
        "    print(f\"'{word}' is a Python keyword.\")\n",
        "else:\n",
        "    print(f\"'{word}' is not a Python keyword.\")\n"
      ]
    },
    {
      "cell_type": "markdown",
      "metadata": {
        "id": "S6LbZAkkrO0t"
      },
      "source": [
        "5. Create a list and tuple in Python, and demonstrate how  attempting to change an element works differently."
      ]
    },
    {
      "cell_type": "code",
      "execution_count": null,
      "metadata": {
        "colab": {
          "base_uri": "https://localhost:8080/",
          "height": 245
        },
        "id": "WujHl_ozrgL1",
        "outputId": "37a38486-2068-4636-b811-d25e5dc9b51c"
      },
      "outputs": [
        {
          "name": "stdout",
          "output_type": "stream",
          "text": [
            "orginal list: [1, 2, 3]\n",
            "modified list [1, 2, 5]\n",
            "orginal list: (2, 5, 8, 3)\n"
          ]
        },
        {
          "ename": "TypeError",
          "evalue": "'tuple' object is not callable",
          "output_type": "error",
          "traceback": [
            "\u001b[0;31m---------------------------------------------------------------------------\u001b[0m",
            "\u001b[0;31mTypeError\u001b[0m                                 Traceback (most recent call last)",
            "\u001b[0;32m/tmp/ipython-input-24-2120870668.py\u001b[0m in \u001b[0;36m<cell line: 0>\u001b[0;34m()\u001b[0m\n\u001b[1;32m      8\u001b[0m \u001b[0mprint\u001b[0m\u001b[0;34m(\u001b[0m\u001b[0;34m\"orginal list:\"\u001b[0m\u001b[0;34m,\u001b[0m\u001b[0mmy_tuple\u001b[0m\u001b[0;34m)\u001b[0m\u001b[0;34m\u001b[0m\u001b[0;34m\u001b[0m\u001b[0m\n\u001b[1;32m      9\u001b[0m \u001b[0;34m\u001b[0m\u001b[0m\n\u001b[0;32m---> 10\u001b[0;31m \u001b[0mmy_tuple\u001b[0m\u001b[0;34m(\u001b[0m\u001b[0;36m3\u001b[0m\u001b[0;34m)\u001b[0m \u001b[0;34m==\u001b[0m \u001b[0;36m7\u001b[0m\u001b[0;34m\u001b[0m\u001b[0;34m\u001b[0m\u001b[0m\n\u001b[0m\u001b[1;32m     11\u001b[0m \u001b[0mprint\u001b[0m\u001b[0;34m(\u001b[0m\u001b[0;34m\"modified list\"\u001b[0m\u001b[0;34m,\u001b[0m\u001b[0mmy_tuple\u001b[0m\u001b[0;34m)\u001b[0m\u001b[0;34m\u001b[0m\u001b[0;34m\u001b[0m\u001b[0m\n",
            "\u001b[0;31mTypeError\u001b[0m: 'tuple' object is not callable"
          ]
        }
      ],
      "source": [
        "my_list =[1,2,3]\n",
        "print(\"orginal list:\",my_list)\n",
        "\n",
        "my_list[2]= 5\n",
        "print(\"modified list\",my_list)\n",
        "\n",
        "my_tuple = (2,5,8,3)\n",
        "print(\"orginal list:\",my_tuple)\n",
        "\n",
        "my_tuple(3) == 7\n",
        "print(\"modified list\",my_tuple)\n"
      ]
    },
    {
      "cell_type": "markdown",
      "metadata": {
        "id": "KGXEmvn_tTSU"
      },
      "source": [
        "6. Write a function to demonstrate the behavior of mutable and immutable arguments."
      ]
    },
    {
      "cell_type": "code",
      "execution_count": null,
      "metadata": {
        "colab": {
          "base_uri": "https://localhost:8080/"
        },
        "id": "HXUveyFitm6U",
        "outputId": "98dfa8cc-3db7-4d99-964e-0b8a31a7d0f4"
      },
      "outputs": [
        {
          "name": "stdout",
          "output_type": "stream",
          "text": [
            "Inside function (number): 6\n",
            "Outside function (number): 5\n",
            "Inside function (list): [1, 2, 3, 99]\n",
            "Outside function (list): [1, 2, 3, 99]\n"
          ]
        }
      ],
      "source": [
        "\n",
        "def change_number(x):\n",
        "    x = x + 1\n",
        "    print(\"Inside function (number):\", x)\n",
        "\n",
        "def change_list(my_list):\n",
        "    my_list.append(99)\n",
        "    print(\"Inside function (list):\", my_list)\n",
        "\n",
        "num = 5\n",
        "change_number(num)\n",
        "print(\"Outside function (number):\", num)\n",
        "\n",
        "list1 = [1, 2, 3]\n",
        "change_list(list1)\n",
        "print(\"Outside function (list):\", list1)\n"
      ]
    },
    {
      "cell_type": "markdown",
      "metadata": {
        "id": "-IWu6r20uKyS"
      },
      "source": [
        "7. Write a program that performs basic arithmetic operations on two user-input numbers."
      ]
    },
    {
      "cell_type": "code",
      "execution_count": null,
      "metadata": {
        "colab": {
          "base_uri": "https://localhost:8080/"
        },
        "id": "LrFdmgv1uWBe",
        "outputId": "b3535246-04b6-4679-845c-ead2cc62488b"
      },
      "outputs": [
        {
          "name": "stdout",
          "output_type": "stream",
          "text": [
            "enter 1st number 34\n",
            "enter 2nd number2\n",
            "36\n",
            "32\n",
            "68\n",
            "17.0\n"
          ]
        }
      ],
      "source": [
        "num1 = int(input(\"enter 1st number\"))\n",
        "num2 = int(input(\"enter 2nd number\"))\n",
        "addition= num1 + num2\n",
        "print(addition)\n",
        "subtraction =  num1 - num2\n",
        "print(subtraction)\n",
        "Multiplication = num1 * num2\n",
        "print(Multiplication)\n",
        "division= num1 / num2\n",
        "print(division)"
      ]
    },
    {
      "cell_type": "markdown",
      "metadata": {
        "id": "owCiXvQWv0xS"
      },
      "source": [
        "8. Write a program to demonstrate the use of logical operators."
      ]
    },
    {
      "cell_type": "code",
      "execution_count": null,
      "metadata": {
        "colab": {
          "base_uri": "https://localhost:8080/"
        },
        "id": "Ks-VIugWv_4Q",
        "outputId": "0fba99b6-9409-43fc-afd8-e01bfc4f20b5"
      },
      "outputs": [
        {
          "name": "stdout",
          "output_type": "stream",
          "text": [
            "enter age of person 34\n",
            "Person eligible for vote\n"
          ]
        }
      ],
      "source": [
        "Age = int(input(\"enter age of person\"))\n",
        "if Age >= 18:\n",
        "  print(\"Person eligible for vote\")\n",
        "else:\n",
        "  print(\"Person not eligible for vote\")"
      ]
    },
    {
      "cell_type": "markdown",
      "metadata": {
        "id": "de4zZR0hwqvN"
      },
      "source": [
        "9. Write a Python program to convert user input from string to integer, float, and boolean types."
      ]
    },
    {
      "cell_type": "code",
      "execution_count": 10,
      "metadata": {
        "colab": {
          "base_uri": "https://localhost:8080/"
        },
        "id": "_HpQaGdgKVxJ",
        "outputId": "6e1a11a8-f300-40b4-c0e4-f3e1dcca88dc"
      },
      "outputs": [
        {
          "output_type": "stream",
          "name": "stdout",
          "text": [
            "Enter a number: 576\n",
            "As Integer: 576\n",
            "As Float: 576.0\n",
            "As Boolean: True\n"
          ]
        }
      ],
      "source": [
        "user_input = input(\"Enter a number: \")\n",
        "\n",
        "x = int(user_input)\n",
        "print(\"As Integer:\", x)\n",
        "\n",
        "y = float(user_input)\n",
        "print(\"As Float:\", y)\n",
        "\n",
        "z = bool(user_input)\n",
        "print(\"As Boolean:\", z)\n",
        "\n",
        "\n",
        "\n"
      ]
    },
    {
      "cell_type": "markdown",
      "metadata": {
        "id": "4uzA2lx8Hno2"
      },
      "source": [
        "10. Write code to demonstrate type casting with list elements"
      ]
    },
    {
      "cell_type": "code",
      "execution_count": 14,
      "metadata": {
        "id": "CgciDYyjHs1w",
        "colab": {
          "base_uri": "https://localhost:8080/"
        },
        "outputId": "323790c6-3c1b-4232-c7d5-e0ced837daa7"
      },
      "outputs": [
        {
          "output_type": "stream",
          "name": "stdout",
          "text": [
            "9\n"
          ]
        },
        {
          "output_type": "execute_result",
          "data": {
            "text/plain": [
              "int"
            ]
          },
          "metadata": {},
          "execution_count": 14
        }
      ],
      "source": [
        "t= 9\n",
        "g = int(t)\n",
        "print(g)\n",
        "type(g)\n"
      ]
    },
    {
      "cell_type": "code",
      "source": [
        "data = ['1', '2', '3']\n",
        "\n",
        "int_list = [int(i) for i in data]\n",
        "print(\"As Integers:\", int_list)\n",
        "\n",
        "float_list = [float(i) for i in data]\n",
        "print(\"As Floats:\", float_list)\n",
        "\n",
        "bool_list = [bool(i) for i in data]\n",
        "print(\"As Booleans:\", bool_list)\n",
        "\n"
      ],
      "metadata": {
        "colab": {
          "base_uri": "https://localhost:8080/"
        },
        "id": "TvTlZ1p0WHNc",
        "outputId": "bbb803d1-276c-412e-d16c-a3fd066a1045"
      },
      "execution_count": 19,
      "outputs": [
        {
          "output_type": "stream",
          "name": "stdout",
          "text": [
            "As Integers: [1, 2, 3]\n",
            "As Floats: [1.0, 2.0, 3.0]\n",
            "As Booleans: [True, True, True]\n"
          ]
        }
      ]
    },
    {
      "cell_type": "markdown",
      "source": [
        "11. Write a program that checks if a number is positive, negative, or zero."
      ],
      "metadata": {
        "id": "izrvM3acYb-3"
      }
    },
    {
      "cell_type": "code",
      "source": [
        "num = int(input(\"Enter a number: \"))\n",
        "\n",
        "if num > 0:\n",
        "    print(\"The number is positive.\")\n",
        "elif num < 0:\n",
        "    print(\"The number is negative.\")\n",
        "else:\n",
        "    print(\"The number is zero.\")\n"
      ],
      "metadata": {
        "colab": {
          "base_uri": "https://localhost:8080/"
        },
        "id": "8J_5yQycYh6C",
        "outputId": "4fe1a6af-7f65-4432-8b97-5dbc9d3f610c"
      },
      "execution_count": 20,
      "outputs": [
        {
          "output_type": "stream",
          "name": "stdout",
          "text": [
            "Enter a number: -89\n",
            "The number is negative.\n"
          ]
        }
      ]
    },
    {
      "cell_type": "markdown",
      "source": [
        "12. Write a for loop to print numbers from 1 to 10."
      ],
      "metadata": {
        "id": "Q8ZBJuYdYzNw"
      }
    },
    {
      "cell_type": "code",
      "source": [
        "for i in range(1,11):\n",
        "    print(i)"
      ],
      "metadata": {
        "colab": {
          "base_uri": "https://localhost:8080/"
        },
        "id": "UxT3QVqvZANO",
        "outputId": "7d1acf70-6035-4c5f-ff36-d5a75fdec3ad"
      },
      "execution_count": 24,
      "outputs": [
        {
          "output_type": "stream",
          "name": "stdout",
          "text": [
            "1\n",
            "2\n",
            "3\n",
            "4\n",
            "5\n",
            "6\n",
            "7\n",
            "8\n",
            "9\n",
            "10\n"
          ]
        }
      ]
    },
    {
      "cell_type": "markdown",
      "source": [
        "13. Write a Python program to find the sum of all even numbers between 1 and 50."
      ],
      "metadata": {
        "id": "iAy4XETIZqDy"
      }
    },
    {
      "cell_type": "code",
      "source": [
        "for i in range(0,50,2):\n",
        "   print(i)"
      ],
      "metadata": {
        "colab": {
          "base_uri": "https://localhost:8080/"
        },
        "id": "3eQ3GqtKZu0g",
        "outputId": "a8d28ba9-32f1-45a5-e22c-2f142901c81f"
      },
      "execution_count": 26,
      "outputs": [
        {
          "output_type": "stream",
          "name": "stdout",
          "text": [
            "0\n",
            "2\n",
            "4\n",
            "6\n",
            "8\n",
            "10\n",
            "12\n",
            "14\n",
            "16\n",
            "18\n",
            "20\n",
            "22\n",
            "24\n",
            "26\n",
            "28\n",
            "30\n",
            "32\n",
            "34\n",
            "36\n",
            "38\n",
            "40\n",
            "42\n",
            "44\n",
            "46\n",
            "48\n"
          ]
        }
      ]
    },
    {
      "cell_type": "markdown",
      "source": [
        "14. Write a program to reverse a string using a while loop.\n"
      ],
      "metadata": {
        "id": "IuT56t5xaDJ4"
      }
    },
    {
      "cell_type": "code",
      "source": [
        "s = input(\"Enter a string: \")\n",
        "i = len(s)\n",
        "rev = \"\"\n",
        "\n",
        "while i > 0:\n",
        "    rev = rev + s[i-1]\n",
        "    i = i - 1\n",
        "\n",
        "print(\"Reversed string:\", rev)\n"
      ],
      "metadata": {
        "colab": {
          "base_uri": "https://localhost:8080/"
        },
        "id": "IUPqM7vTaEPo",
        "outputId": "ff59c5b7-25a7-41b5-bec9-1761d4d6e06e"
      },
      "execution_count": 27,
      "outputs": [
        {
          "output_type": "stream",
          "name": "stdout",
          "text": [
            "Enter a string: sachin\n",
            "Reversed string: nihcas\n"
          ]
        }
      ]
    },
    {
      "cell_type": "markdown",
      "source": [
        "15. Write a Python program to calculate the factorial of a number provided by the user using a while loop."
      ],
      "metadata": {
        "id": "NAEaDB4iab0m"
      }
    },
    {
      "cell_type": "code",
      "source": [
        "num = int(input(\"Enter a number: \"))\n",
        "factorial = 1\n",
        "i = 1\n",
        "\n",
        "while i <= num:\n",
        "    factorial *= i\n",
        "    i += 1\n",
        "\n",
        "print(\"Factorial of\", num, \"is\", factorial)\n"
      ],
      "metadata": {
        "colab": {
          "base_uri": "https://localhost:8080/"
        },
        "id": "i6bIkDoXafV8",
        "outputId": "829ec230-5742-4c9a-c3eb-37e2746fabc0"
      },
      "execution_count": 29,
      "outputs": [
        {
          "output_type": "stream",
          "name": "stdout",
          "text": [
            "Enter a number: 6\n",
            "Factorial of 6 is 720\n"
          ]
        }
      ]
    }
  ],
  "metadata": {
    "colab": {
      "provenance": []
    },
    "kernelspec": {
      "display_name": "Python 3",
      "name": "python3"
    },
    "language_info": {
      "name": "python"
    }
  },
  "nbformat": 4,
  "nbformat_minor": 0
}